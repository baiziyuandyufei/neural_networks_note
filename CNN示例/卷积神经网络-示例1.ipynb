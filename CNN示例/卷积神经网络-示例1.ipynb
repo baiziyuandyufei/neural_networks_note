{
 "cells": [
  {
   "cell_type": "code",
   "execution_count": 1,
   "metadata": {
    "collapsed": false
   },
   "outputs": [],
   "source": [
    "import numpy as np\n",
    "# 定义文档集\n",
    "documents = ['Well done!',\n",
    "             'Good work',\n",
    "             'Great effort',\n",
    "             'nice work',\n",
    "             'Excetllent!',\n",
    "             'Weak',\n",
    "             'Poor effort!',\n",
    "             'not good',\n",
    "             'poor work',\n",
    "             'Could have done better.']\n",
    "\n",
    "# 定义类别标记\n",
    "labels = np.array([1,1,1,1,1,0,0,0,0,0])"
   ]
  },
  {
   "cell_type": "code",
   "execution_count": 2,
   "metadata": {
    "collapsed": false
   },
   "outputs": [
    {
     "name": "stderr",
     "output_type": "stream",
     "text": [
      "Using TensorFlow backend.\n"
     ]
    }
   ],
   "source": [
    "from keras.preprocessing.text import Tokenizer\n",
    "from keras.preprocessing.sequence import pad_sequences"
   ]
  },
  {
   "cell_type": "code",
   "execution_count": 3,
   "metadata": {
    "collapsed": false
   },
   "outputs": [
    {
     "name": "stdout",
     "output_type": "stream",
     "text": [
      "[[ 6  2  0  0]\n",
      " [ 3  1  0  0]\n",
      " [ 7  4  0  0]\n",
      " [ 8  1  0  0]\n",
      " [ 9  0  0  0]\n",
      " [10  0  0  0]\n",
      " [ 5  4  0  0]\n",
      " [11  3  0  0]\n",
      " [ 5  1  0  0]\n",
      " [12 13  2 14]]\n"
     ]
    }
   ],
   "source": [
    "# 实例化Tokenizer对象\n",
    "tokenizer = Tokenizer()\n",
    "# 构建词汇表\n",
    "tokenizer.fit_on_texts(documents)\n",
    "# 输出词汇表长度\n",
    "vocab_size = len(tokenizer.word_index) + 1\n",
    "# 向量化文本集\n",
    "encodeDocuments = tokenizer.texts_to_sequences(documents)\n",
    "# 固定文本长度\n",
    "max_length = 4\n",
    "paddedDocuments = pad_sequences(encodeDocuments, maxlen=max_length, padding='post')\n",
    "print(paddedDocuments)\n",
    "# 训练集\n",
    "x_train = paddedDocuments[:8]\n",
    "y_train = labels[:8]\n",
    "# 测试集\n",
    "x_test = paddedDocuments[-2:]\n",
    "y_test = labels[-2:]"
   ]
  },
  {
   "cell_type": "code",
   "execution_count": 4,
   "metadata": {
    "collapsed": true
   },
   "outputs": [],
   "source": [
    "from keras.models import Sequential\n",
    "from keras.layers import Dense\n",
    "from keras.layers import Flatten\n",
    "from keras.layers.embeddings import Embedding\n",
    "from keras.layers import Conv1D\n",
    "from keras.layers import MaxPooling1D\n",
    "from keras.layers.core import Flatten\n",
    "from keras.layers.core import Dropout"
   ]
  },
  {
   "cell_type": "code",
   "execution_count": 5,
   "metadata": {
    "collapsed": false,
    "scrolled": true
   },
   "outputs": [
    {
     "name": "stdout",
     "output_type": "stream",
     "text": [
      "WARNING:tensorflow:From /Users/yufei/anaconda3/envs/py36/lib/python3.6/site-packages/Keras-2.2.5-py3.6.egg/keras/backend/tensorflow_backend.py:67: The name tf.get_default_graph is deprecated. Please use tf.compat.v1.get_default_graph instead.\n",
      "\n",
      "WARNING:tensorflow:From /Users/yufei/anaconda3/envs/py36/lib/python3.6/site-packages/Keras-2.2.5-py3.6.egg/keras/backend/tensorflow_backend.py:4274: The name tf.nn.max_pool is deprecated. Please use tf.nn.max_pool2d instead.\n",
      "\n",
      "Model: \"sequential_1\"\n",
      "_________________________________________________________________\n",
      "Layer (type)                 Output Shape              Param #   \n",
      "=================================================================\n",
      "embedding_1 (Embedding)      (None, 4, 100)            1500      \n",
      "_________________________________________________________________\n",
      "conv1d_1 (Conv1D)            (None, 4, 100)            20100     \n",
      "_________________________________________________________________\n",
      "max_pooling1d_1 (MaxPooling1 (None, 2, 100)            0         \n",
      "_________________________________________________________________\n",
      "flatten_1 (Flatten)          (None, 200)               0         \n",
      "_________________________________________________________________\n",
      "dense_1 (Dense)              (None, 1)                 201       \n",
      "=================================================================\n",
      "Total params: 21,801\n",
      "Trainable params: 21,801\n",
      "Non-trainable params: 0\n",
      "_________________________________________________________________\n"
     ]
    }
   ],
   "source": [
    "model = Sequential()\n",
    "model.add(Embedding(vocab_size,\n",
    "                    100,\n",
    "                    input_length=max_length, \n",
    "                    trainable=True))\n",
    "# 加入卷积层\n",
    "model.add(Conv1D(filters=100,       # 卷积核数量，卷积层输出维度1,则卷积后的文本矩阵的列数为1\n",
    "                 kernel_size=2,   # 卷积核长度为2个单词\n",
    "                 strides=1,       # 卷积核每次移动单词数量1\n",
    "                 padding=\"same\",  # 不填充，则输出的卷积后的文本矩阵的行数为(4-2+2*0)/1+1=3\n",
    "                 activation='relu'))\n",
    "# 加入池化层\n",
    "model.add(MaxPooling1D(pool_size=2))\n",
    "# 加入平坦层，使得维数匹配输出层\n",
    "model.add(Flatten())\n",
    "# 输出层\n",
    "model.add(Dense(1, activation='sigmoid'))\n",
    "model.summary()"
   ]
  },
  {
   "cell_type": "code",
   "execution_count": 6,
   "metadata": {
    "collapsed": false
   },
   "outputs": [
    {
     "name": "stdout",
     "output_type": "stream",
     "text": [
      "WARNING:tensorflow:From /Users/yufei/anaconda3/envs/py36/lib/python3.6/site-packages/Keras-2.2.5-py3.6.egg/keras/optimizers.py:793: The name tf.train.Optimizer is deprecated. Please use tf.compat.v1.train.Optimizer instead.\n",
      "\n",
      "WARNING:tensorflow:From /Users/yufei/anaconda3/envs/py36/lib/python3.6/site-packages/tensorflow_core/python/ops/nn_impl.py:183: where (from tensorflow.python.ops.array_ops) is deprecated and will be removed in a future version.\n",
      "Instructions for updating:\n",
      "Use tf.where in 2.0, which has the same broadcast rule as np.where\n"
     ]
    }
   ],
   "source": [
    "model.compile(loss='binary_crossentropy',\n",
    "                  optimizer='rmsprop',\n",
    "                  metrics=['accuracy'])"
   ]
  },
  {
   "cell_type": "code",
   "execution_count": 7,
   "metadata": {
    "collapsed": false
   },
   "outputs": [
    {
     "name": "stdout",
     "output_type": "stream",
     "text": [
      "Epoch 1/100\n",
      " - 0s - loss: 0.6891 - acc: 0.6250\n",
      "Epoch 2/100\n",
      " - 0s - loss: 0.6584 - acc: 0.6250\n",
      "Epoch 3/100\n",
      " - 0s - loss: 0.6384 - acc: 0.6250\n",
      "Epoch 4/100\n",
      " - 0s - loss: 0.6221 - acc: 0.6250\n",
      "Epoch 5/100\n",
      " - 0s - loss: 0.6063 - acc: 0.6250\n",
      "Epoch 6/100\n",
      " - 0s - loss: 0.5914 - acc: 0.6250\n",
      "Epoch 7/100\n",
      " - 0s - loss: 0.5767 - acc: 0.7500\n",
      "Epoch 8/100\n",
      " - 0s - loss: 0.5627 - acc: 0.7500\n",
      "Epoch 9/100\n",
      " - 0s - loss: 0.5482 - acc: 0.7500\n",
      "Epoch 10/100\n",
      " - 0s - loss: 0.5333 - acc: 0.7500\n",
      "Epoch 11/100\n",
      " - 0s - loss: 0.5182 - acc: 0.7500\n",
      "Epoch 12/100\n",
      " - 0s - loss: 0.5026 - acc: 0.7500\n",
      "Epoch 13/100\n",
      " - 0s - loss: 0.4866 - acc: 0.8750\n",
      "Epoch 14/100\n",
      " - 0s - loss: 0.4708 - acc: 1.0000\n",
      "Epoch 15/100\n",
      " - 0s - loss: 0.4545 - acc: 1.0000\n",
      "Epoch 16/100\n",
      " - 0s - loss: 0.4386 - acc: 1.0000\n",
      "Epoch 17/100\n",
      " - 0s - loss: 0.4227 - acc: 1.0000\n",
      "Epoch 18/100\n",
      " - 0s - loss: 0.4066 - acc: 1.0000\n",
      "Epoch 19/100\n",
      " - 0s - loss: 0.3900 - acc: 1.0000\n",
      "Epoch 20/100\n",
      " - 0s - loss: 0.3738 - acc: 1.0000\n",
      "Epoch 21/100\n",
      " - 0s - loss: 0.3578 - acc: 1.0000\n",
      "Epoch 22/100\n",
      " - 0s - loss: 0.3419 - acc: 1.0000\n",
      "Epoch 23/100\n",
      " - 0s - loss: 0.3258 - acc: 1.0000\n",
      "Epoch 24/100\n",
      " - 0s - loss: 0.3098 - acc: 1.0000\n",
      "Epoch 25/100\n",
      " - 0s - loss: 0.2944 - acc: 1.0000\n",
      "Epoch 26/100\n",
      " - 0s - loss: 0.2788 - acc: 1.0000\n",
      "Epoch 27/100\n",
      " - 0s - loss: 0.2641 - acc: 1.0000\n",
      "Epoch 28/100\n",
      " - 0s - loss: 0.2492 - acc: 1.0000\n",
      "Epoch 29/100\n",
      " - 0s - loss: 0.2349 - acc: 1.0000\n",
      "Epoch 30/100\n",
      " - 0s - loss: 0.2211 - acc: 1.0000\n",
      "Epoch 31/100\n",
      " - 0s - loss: 0.2077 - acc: 1.0000\n",
      "Epoch 32/100\n",
      " - 0s - loss: 0.1949 - acc: 1.0000\n",
      "Epoch 33/100\n",
      " - 0s - loss: 0.1833 - acc: 1.0000\n",
      "Epoch 34/100\n",
      " - 0s - loss: 0.1718 - acc: 1.0000\n",
      "Epoch 35/100\n",
      " - 0s - loss: 0.1608 - acc: 1.0000\n",
      "Epoch 36/100\n",
      " - 0s - loss: 0.1505 - acc: 1.0000\n",
      "Epoch 37/100\n",
      " - 0s - loss: 0.1407 - acc: 1.0000\n",
      "Epoch 38/100\n",
      " - 0s - loss: 0.1313 - acc: 1.0000\n",
      "Epoch 39/100\n",
      " - 0s - loss: 0.1226 - acc: 1.0000\n",
      "Epoch 40/100\n",
      " - 0s - loss: 0.1144 - acc: 1.0000\n",
      "Epoch 41/100\n",
      " - 0s - loss: 0.1066 - acc: 1.0000\n",
      "Epoch 42/100\n",
      " - 0s - loss: 0.0993 - acc: 1.0000\n",
      "Epoch 43/100\n",
      " - 0s - loss: 0.0924 - acc: 1.0000\n",
      "Epoch 44/100\n",
      " - 0s - loss: 0.0860 - acc: 1.0000\n",
      "Epoch 45/100\n",
      " - 0s - loss: 0.0800 - acc: 1.0000\n",
      "Epoch 46/100\n",
      " - 0s - loss: 0.0746 - acc: 1.0000\n",
      "Epoch 47/100\n",
      " - 0s - loss: 0.0694 - acc: 1.0000\n",
      "Epoch 48/100\n",
      " - 0s - loss: 0.0646 - acc: 1.0000\n",
      "Epoch 49/100\n",
      " - 0s - loss: 0.0602 - acc: 1.0000\n",
      "Epoch 50/100\n",
      " - 0s - loss: 0.0560 - acc: 1.0000\n",
      "Epoch 51/100\n",
      " - 0s - loss: 0.0521 - acc: 1.0000\n",
      "Epoch 52/100\n",
      " - 0s - loss: 0.0485 - acc: 1.0000\n",
      "Epoch 53/100\n",
      " - 0s - loss: 0.0451 - acc: 1.0000\n",
      "Epoch 54/100\n",
      " - 0s - loss: 0.0420 - acc: 1.0000\n",
      "Epoch 55/100\n",
      " - 0s - loss: 0.0390 - acc: 1.0000\n",
      "Epoch 56/100\n",
      " - 0s - loss: 0.0363 - acc: 1.0000\n",
      "Epoch 57/100\n",
      " - 0s - loss: 0.0338 - acc: 1.0000\n",
      "Epoch 58/100\n",
      " - 0s - loss: 0.0315 - acc: 1.0000\n",
      "Epoch 59/100\n",
      " - 0s - loss: 0.0293 - acc: 1.0000\n",
      "Epoch 60/100\n",
      " - 0s - loss: 0.0273 - acc: 1.0000\n",
      "Epoch 61/100\n",
      " - 0s - loss: 0.0254 - acc: 1.0000\n",
      "Epoch 62/100\n",
      " - 0s - loss: 0.0237 - acc: 1.0000\n",
      "Epoch 63/100\n",
      " - 0s - loss: 0.0221 - acc: 1.0000\n",
      "Epoch 64/100\n",
      " - 0s - loss: 0.0206 - acc: 1.0000\n",
      "Epoch 65/100\n",
      " - 0s - loss: 0.0192 - acc: 1.0000\n",
      "Epoch 66/100\n",
      " - 0s - loss: 0.0179 - acc: 1.0000\n",
      "Epoch 67/100\n",
      " - 0s - loss: 0.0167 - acc: 1.0000\n",
      "Epoch 68/100\n",
      " - 0s - loss: 0.0156 - acc: 1.0000\n",
      "Epoch 69/100\n",
      " - 0s - loss: 0.0145 - acc: 1.0000\n",
      "Epoch 70/100\n",
      " - 0s - loss: 0.0136 - acc: 1.0000\n",
      "Epoch 71/100\n",
      " - 0s - loss: 0.0127 - acc: 1.0000\n",
      "Epoch 72/100\n",
      " - 0s - loss: 0.0118 - acc: 1.0000\n",
      "Epoch 73/100\n",
      " - 0s - loss: 0.0110 - acc: 1.0000\n",
      "Epoch 74/100\n",
      " - 0s - loss: 0.0103 - acc: 1.0000\n",
      "Epoch 75/100\n",
      " - 0s - loss: 0.0097 - acc: 1.0000\n",
      "Epoch 76/100\n",
      " - 0s - loss: 0.0090 - acc: 1.0000\n",
      "Epoch 77/100\n",
      " - 0s - loss: 0.0084 - acc: 1.0000\n",
      "Epoch 78/100\n",
      " - 0s - loss: 0.0079 - acc: 1.0000\n",
      "Epoch 79/100\n",
      " - 0s - loss: 0.0074 - acc: 1.0000\n",
      "Epoch 80/100\n",
      " - 0s - loss: 0.0069 - acc: 1.0000\n",
      "Epoch 81/100\n",
      " - 0s - loss: 0.0064 - acc: 1.0000\n",
      "Epoch 82/100\n",
      " - 0s - loss: 0.0060 - acc: 1.0000\n",
      "Epoch 83/100\n",
      " - 0s - loss: 0.0056 - acc: 1.0000\n",
      "Epoch 84/100\n",
      " - 0s - loss: 0.0052 - acc: 1.0000\n",
      "Epoch 85/100\n",
      " - 0s - loss: 0.0049 - acc: 1.0000\n",
      "Epoch 86/100\n",
      " - 0s - loss: 0.0046 - acc: 1.0000\n",
      "Epoch 87/100\n",
      " - 0s - loss: 0.0043 - acc: 1.0000\n",
      "Epoch 88/100\n",
      " - 0s - loss: 0.0040 - acc: 1.0000\n",
      "Epoch 89/100\n",
      " - 0s - loss: 0.0038 - acc: 1.0000\n",
      "Epoch 90/100\n",
      " - 0s - loss: 0.0035 - acc: 1.0000\n",
      "Epoch 91/100\n",
      " - 0s - loss: 0.0033 - acc: 1.0000\n",
      "Epoch 92/100\n",
      " - 0s - loss: 0.0031 - acc: 1.0000\n",
      "Epoch 93/100\n",
      " - 0s - loss: 0.0029 - acc: 1.0000\n",
      "Epoch 94/100\n",
      " - 0s - loss: 0.0027 - acc: 1.0000\n",
      "Epoch 95/100\n",
      " - 0s - loss: 0.0026 - acc: 1.0000\n",
      "Epoch 96/100\n",
      " - 0s - loss: 0.0024 - acc: 1.0000\n",
      "Epoch 97/100\n",
      " - 0s - loss: 0.0022 - acc: 1.0000\n",
      "Epoch 98/100\n",
      " - 0s - loss: 0.0021 - acc: 1.0000\n",
      "Epoch 99/100\n",
      " - 0s - loss: 0.0020 - acc: 1.0000\n",
      "Epoch 100/100\n",
      " - 0s - loss: 0.0019 - acc: 1.0000\n"
     ]
    }
   ],
   "source": [
    " # 训练\n",
    "train_history = model.fit(x_train, y_train,\n",
    "                          batch_size=10, \n",
    "                          epochs=100,  \n",
    "                          verbose=2)  "
   ]
  },
  {
   "cell_type": "markdown",
   "metadata": {},
   "source": [
    "注意这个示例中没有分训练集和验证集，因为数据量太少了。如果分成训练集和验证集，则验证集的准确率为0。也说明利用卷积神经网络抽取特征，需要有足够的训练数据才可以。"
   ]
  },
  {
   "cell_type": "code",
   "execution_count": 8,
   "metadata": {
    "collapsed": false
   },
   "outputs": [
    {
     "name": "stdout",
     "output_type": "stream",
     "text": [
      "Accuracy: 80.000001\n"
     ]
    }
   ],
   "source": [
    "# 评估\n",
    "loss, accuracy = model.evaluate(paddedDocuments, labels, verbose=0)\n",
    "print('Accuracy: %f' % (accuracy * 100))"
   ]
  }
 ],
 "metadata": {
  "anaconda-cloud": {},
  "kernelspec": {
   "display_name": "Python [conda env:py36]",
   "language": "python",
   "name": "conda-env-py36-py"
  },
  "language_info": {
   "codemirror_mode": {
    "name": "ipython",
    "version": 3
   },
   "file_extension": ".py",
   "mimetype": "text/x-python",
   "name": "python",
   "nbconvert_exporter": "python",
   "pygments_lexer": "ipython3",
   "version": "3.6.2"
  }
 },
 "nbformat": 4,
 "nbformat_minor": 1
}
