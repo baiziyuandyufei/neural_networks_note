{
 "cells": [
  {
   "cell_type": "markdown",
   "metadata": {},
   "source": [
    "# Chap3 Keras快速上手"
   ]
  },
  {
   "cell_type": "markdown",
   "metadata": {},
   "source": [
    "本节构建一个MLP神经网络解决多类别分类问题。通过该示例，演示Keras基本操作。"
   ]
  },
  {
   "cell_type": "markdown",
   "metadata": {},
   "source": [
    "## 1. 维度概念"
   ]
  },
  {
   "cell_type": "code",
   "execution_count": 1,
   "metadata": {
    "collapsed": true
   },
   "outputs": [],
   "source": [
    "import numpy as np"
   ]
  },
  {
   "cell_type": "code",
   "execution_count": 2,
   "metadata": {
    "collapsed": false
   },
   "outputs": [
    {
     "name": "stdout",
     "output_type": "stream",
     "text": [
      "a= [[1 2]\n",
      " [3 4]]\n",
      "所有行求和= [4 6]\n",
      "所有列求和= [3 7]\n"
     ]
    }
   ],
   "source": [
    "a = np.array([[1, 2], [3, 4]])\n",
    "sum0 = np.sum(a, axis=0)\n",
    "sum1 = np.sum(a, axis=1)\n",
    "print(\"a=\", a)\n",
    "print(\"所有行求和=\", sum0)\n",
    "print(\"所有列求和=\", sum1)"
   ]
  },
  {
   "cell_type": "markdown",
   "metadata": {},
   "source": [
    "## 2. 初识Sequential模型"
   ]
  },
  {
   "cell_type": "code",
   "execution_count": 3,
   "metadata": {
    "collapsed": false
   },
   "outputs": [
    {
     "name": "stderr",
     "output_type": "stream",
     "text": [
      "Using TensorFlow backend.\n",
      "/Users/yufei/anaconda3/lib/python3.5/importlib/_bootstrap.py:222: RuntimeWarning: compiletime version 3.6 of module 'tensorflow.python.framework.fast_tensor_util' does not match runtime version 3.5\n",
      "  return f(*args, **kwds)\n"
     ]
    }
   ],
   "source": [
    "from keras.models import Sequential"
   ]
  },
  {
   "cell_type": "code",
   "execution_count": 4,
   "metadata": {
    "collapsed": true
   },
   "outputs": [],
   "source": [
    "# 实例化堆叠模型\n",
    "model = Sequential()"
   ]
  },
  {
   "cell_type": "code",
   "execution_count": 5,
   "metadata": {
    "collapsed": true
   },
   "outputs": [],
   "source": [
    "from keras.layers import Dense, Dropout, Activation"
   ]
  },
  {
   "cell_type": "code",
   "execution_count": 6,
   "metadata": {
    "collapsed": false
   },
   "outputs": [
    {
     "name": "stdout",
     "output_type": "stream",
     "text": [
      "_________________________________________________________________\n",
      "Layer (type)                 Output Shape              Param #   \n",
      "=================================================================\n",
      "dense_1 (Dense)              (None, 512)               401920    \n",
      "_________________________________________________________________\n",
      "activation_1 (Activation)    (None, 512)               0         \n",
      "_________________________________________________________________\n",
      "dropout_1 (Dropout)          (None, 512)               0         \n",
      "_________________________________________________________________\n",
      "dense_2 (Dense)              (None, 10)                5130      \n",
      "=================================================================\n",
      "Total params: 407,050\n",
      "Trainable params: 407,050\n",
      "Non-trainable params: 0\n",
      "_________________________________________________________________\n",
      "None\n"
     ]
    }
   ],
   "source": [
    "# 添加全连接层，要求输入矩阵为(*, 784)\n",
    "model.add(Dense(512, input_shape=(784, )))\n",
    "# 添加激活函数\n",
    "model.add(Activation('relu'))\n",
    "# 定义丢弃连接数比例\n",
    "model.add(Dropout(0.2))\n",
    "# 多类别分类问题的输出层\n",
    "model.add(Dense(10, activation='softmax'))\n",
    "print(model.summary())"
   ]
  },
  {
   "cell_type": "code",
   "execution_count": 7,
   "metadata": {
    "collapsed": false
   },
   "outputs": [],
   "source": [
    "# 编译模型\n",
    "model.compile(loss='categorical_crossentropy', # 多类别分类的交叉熵损失函数\n",
    "              optimizer='sgd', \n",
    "              metrics=['accuracy'])"
   ]
  },
  {
   "cell_type": "code",
   "execution_count": 8,
   "metadata": {
    "collapsed": true
   },
   "outputs": [],
   "source": [
    "from keras.utils import to_categorical"
   ]
  },
  {
   "cell_type": "code",
   "execution_count": 9,
   "metadata": {
    "collapsed": false
   },
   "outputs": [
    {
     "name": "stdout",
     "output_type": "stream",
     "text": [
      "(1000, 784)\n",
      "(1000, 10)\n",
      "Train on 800 samples, validate on 200 samples\n",
      "Epoch 1/10\n",
      " - 0s - loss: 2.4759 - acc: 0.0987 - val_loss: 2.3559 - val_acc: 0.1250\n",
      "Epoch 2/10\n",
      " - 0s - loss: 2.3865 - acc: 0.0988 - val_loss: 2.3473 - val_acc: 0.1350\n",
      "Epoch 3/10\n",
      " - 0s - loss: 2.3908 - acc: 0.0888 - val_loss: 2.3547 - val_acc: 0.0950\n",
      "Epoch 4/10\n",
      " - 0s - loss: 2.3629 - acc: 0.1013 - val_loss: 2.3579 - val_acc: 0.1100\n",
      "Epoch 5/10\n",
      " - 0s - loss: 2.3451 - acc: 0.0887 - val_loss: 2.3584 - val_acc: 0.1300\n",
      "Epoch 6/10\n",
      " - 0s - loss: 2.3515 - acc: 0.1125 - val_loss: 2.3519 - val_acc: 0.1400\n",
      "Epoch 7/10\n",
      " - 0s - loss: 2.3357 - acc: 0.1150 - val_loss: 2.3507 - val_acc: 0.1200\n",
      "Epoch 8/10\n",
      " - 0s - loss: 2.3238 - acc: 0.1275 - val_loss: 2.3544 - val_acc: 0.1000\n",
      "Epoch 9/10\n",
      " - 0s - loss: 2.3125 - acc: 0.1063 - val_loss: 2.3503 - val_acc: 0.0850\n",
      "Epoch 10/10\n",
      " - 0s - loss: 2.3080 - acc: 0.1225 - val_loss: 2.3548 - val_acc: 0.0950\n"
     ]
    },
    {
     "data": {
      "text/plain": [
       "<keras.callbacks.History at 0xb334c45f8>"
      ]
     },
     "execution_count": 9,
     "metadata": {},
     "output_type": "execute_result"
    }
   ],
   "source": [
    "# 训练数据\n",
    "data = np.random.random((1000, 784))\n",
    "print(data.shape)\n",
    "label = to_categorical(np.random.randint(10, size=(1000, )))\n",
    "print(label.shape)\n",
    "model.fit(data, label, \n",
    "          batch_size=100, \n",
    "          epochs=10, \n",
    "          shuffle=True, \n",
    "          verbose=2, \n",
    "          validation_split=0.2)"
   ]
  }
 ],
 "metadata": {
  "anaconda-cloud": {},
  "kernelspec": {
   "display_name": "Python [conda env:anaconda3]",
   "language": "python",
   "name": "conda-env-anaconda3-py"
  },
  "language_info": {
   "codemirror_mode": {
    "name": "ipython",
    "version": 3
   },
   "file_extension": ".py",
   "mimetype": "text/x-python",
   "name": "python",
   "nbconvert_exporter": "python",
   "pygments_lexer": "ipython3",
   "version": "3.5.2"
  }
 },
 "nbformat": 4,
 "nbformat_minor": 1
}
